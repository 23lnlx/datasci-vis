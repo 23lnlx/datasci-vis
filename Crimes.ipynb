{
 "cells": [
  {
   "cell_type": "code",
   "execution_count": 148,
   "metadata": {
    "collapsed": false
   },
   "outputs": [
    {
     "name": "stdout",
     "output_type": "stream",
     "text": [
      "Populating the interactive namespace from numpy and matplotlib\n"
     ]
    },
    {
     "name": "stderr",
     "output_type": "stream",
     "text": [
      "/usr/lib/python3/dist-packages/pandas/io/parsers.py:1070: DtypeWarning: Columns (9) have mixed types. Specify dtype option on import or set low_memory=False.\n",
      "  data = self._reader.read(nrows)\n"
     ]
    }
   ],
   "source": [
    "import pandas as pd\n",
    "import numpy as np\n",
    "import matplotlib.pyplot as plt\n",
    "%pylab inline\n",
    "san = pd.read_csv(\"sanfrancisco_incidents_summer_2014.csv\")\n",
    "sea = pd.read_csv(\"seattle_incidents_summer_2014.csv\")"
   ]
  },
  {
   "cell_type": "markdown",
   "metadata": {},
   "source": [
    "## Overview dataframes\n"
   ]
  },
  {
   "cell_type": "code",
   "execution_count": 149,
   "metadata": {
    "collapsed": false
   },
   "outputs": [
    {
     "data": {
      "text/html": [
       "<div style=\"max-height:1000px;max-width:1500px;overflow:auto;\">\n",
       "<table border=\"1\" class=\"dataframe\">\n",
       "  <thead>\n",
       "    <tr style=\"text-align: right;\">\n",
       "      <th></th>\n",
       "      <th>RMS CDW ID</th>\n",
       "      <th>General Offense Number</th>\n",
       "      <th>Offense Code</th>\n",
       "      <th>Offense Code Extension</th>\n",
       "      <th>Offense Type</th>\n",
       "      <th>Summary Offense Code</th>\n",
       "      <th>Summarized Offense Description</th>\n",
       "      <th>Date Reported</th>\n",
       "      <th>Occurred Date or Date Range Start</th>\n",
       "      <th>Occurred Date Range End</th>\n",
       "      <th>Hundred Block Location</th>\n",
       "      <th>District/Sector</th>\n",
       "      <th>Zone/Beat</th>\n",
       "      <th>Census Tract 2000</th>\n",
       "      <th>Longitude</th>\n",
       "      <th>Latitude</th>\n",
       "      <th>Location</th>\n",
       "      <th>Month</th>\n",
       "      <th>Year</th>\n",
       "    </tr>\n",
       "  </thead>\n",
       "  <tbody>\n",
       "    <tr>\n",
       "      <th>0</th>\n",
       "      <td> 483839</td>\n",
       "      <td> 2015218538</td>\n",
       "      <td> 2202</td>\n",
       "      <td> 0</td>\n",
       "      <td>   BURGLARY-FORCE-RES</td>\n",
       "      <td> 2200</td>\n",
       "      <td>   BURGLARY</td>\n",
       "      <td> 06/28/2015 10:31:00 AM</td>\n",
       "      <td> 06/28/2014 10:31:00 AM</td>\n",
       "      <td> 06/28/2015 10:31:00 AM</td>\n",
       "      <td>  6XX BLOCK OF NW 74 ST</td>\n",
       "      <td> J</td>\n",
       "      <td> J2</td>\n",
       "      <td>  2900.3013</td>\n",
       "      <td>-122.364672</td>\n",
       "      <td> 47.682524</td>\n",
       "      <td>  (47.68252427, -122.364671996)</td>\n",
       "      <td> 6</td>\n",
       "      <td> 2014</td>\n",
       "    </tr>\n",
       "    <tr>\n",
       "      <th>1</th>\n",
       "      <td> 481252</td>\n",
       "      <td> 2015213067</td>\n",
       "      <td> 2610</td>\n",
       "      <td> 0</td>\n",
       "      <td> FRAUD-IDENTITY THEFT</td>\n",
       "      <td> 2600</td>\n",
       "      <td>      FRAUD</td>\n",
       "      <td> 06/24/2015 11:09:00 AM</td>\n",
       "      <td> 06/01/2014 12:00:00 AM</td>\n",
       "      <td> 06/24/2015 11:09:00 AM</td>\n",
       "      <td>  23XX BLOCK OF 43 AV E</td>\n",
       "      <td> C</td>\n",
       "      <td> C2</td>\n",
       "      <td>  6300.1004</td>\n",
       "      <td>-122.277080</td>\n",
       "      <td> 47.639901</td>\n",
       "      <td> (47.639900761, -122.277080248)</td>\n",
       "      <td> 6</td>\n",
       "      <td> 2014</td>\n",
       "    </tr>\n",
       "    <tr>\n",
       "      <th>2</th>\n",
       "      <td> 481375</td>\n",
       "      <td> 2015210301</td>\n",
       "      <td> 2316</td>\n",
       "      <td> 0</td>\n",
       "      <td>           THEFT-MAIL</td>\n",
       "      <td> 2300</td>\n",
       "      <td> MAIL THEFT</td>\n",
       "      <td> 06/22/2015 09:22:00 AM</td>\n",
       "      <td> 08/31/2014 09:00:00 AM</td>\n",
       "      <td>                    NaN</td>\n",
       "      <td> 81XX BLOCK OF 11 AV SW</td>\n",
       "      <td> F</td>\n",
       "      <td> F3</td>\n",
       "      <td> 11300.5013</td>\n",
       "      <td>-122.349312</td>\n",
       "      <td> 47.529232</td>\n",
       "      <td> (47.529232299, -122.349312181)</td>\n",
       "      <td> 8</td>\n",
       "      <td> 2014</td>\n",
       "    </tr>\n",
       "  </tbody>\n",
       "</table>\n",
       "<p>3 rows × 19 columns</p>\n",
       "</div>"
      ],
      "text/plain": [
       "   RMS CDW ID  General Offense Number Offense Code  Offense Code Extension  \\\n",
       "0      483839              2015218538         2202                       0   \n",
       "1      481252              2015213067         2610                       0   \n",
       "2      481375              2015210301         2316                       0   \n",
       "\n",
       "           Offense Type Summary Offense Code Summarized Offense Description  \\\n",
       "0    BURGLARY-FORCE-RES                 2200                       BURGLARY   \n",
       "1  FRAUD-IDENTITY THEFT                 2600                          FRAUD   \n",
       "2            THEFT-MAIL                 2300                     MAIL THEFT   \n",
       "\n",
       "            Date Reported Occurred Date or Date Range Start  \\\n",
       "0  06/28/2015 10:31:00 AM            06/28/2014 10:31:00 AM   \n",
       "1  06/24/2015 11:09:00 AM            06/01/2014 12:00:00 AM   \n",
       "2  06/22/2015 09:22:00 AM            08/31/2014 09:00:00 AM   \n",
       "\n",
       "  Occurred Date Range End  Hundred Block Location District/Sector Zone/Beat  \\\n",
       "0  06/28/2015 10:31:00 AM   6XX BLOCK OF NW 74 ST               J        J2   \n",
       "1  06/24/2015 11:09:00 AM   23XX BLOCK OF 43 AV E               C        C2   \n",
       "2                     NaN  81XX BLOCK OF 11 AV SW               F        F3   \n",
       "\n",
       "   Census Tract 2000   Longitude   Latitude                        Location  \\\n",
       "0          2900.3013 -122.364672  47.682524   (47.68252427, -122.364671996)   \n",
       "1          6300.1004 -122.277080  47.639901  (47.639900761, -122.277080248)   \n",
       "2         11300.5013 -122.349312  47.529232  (47.529232299, -122.349312181)   \n",
       "\n",
       "   Month  Year  \n",
       "0      6  2014  \n",
       "1      6  2014  \n",
       "2      8  2014  \n",
       "\n",
       "[3 rows x 19 columns]"
      ]
     },
     "execution_count": 149,
     "metadata": {},
     "output_type": "execute_result"
    }
   ],
   "source": [
    "sea.head(3)"
   ]
  },
  {
   "cell_type": "code",
   "execution_count": 150,
   "metadata": {
    "collapsed": false
   },
   "outputs": [
    {
     "data": {
      "text/html": [
       "<div style=\"max-height:1000px;max-width:1500px;overflow:auto;\">\n",
       "<table border=\"1\" class=\"dataframe\">\n",
       "  <thead>\n",
       "    <tr style=\"text-align: right;\">\n",
       "      <th></th>\n",
       "      <th>IncidntNum</th>\n",
       "      <th>Category</th>\n",
       "      <th>Descript</th>\n",
       "      <th>DayOfWeek</th>\n",
       "      <th>Date</th>\n",
       "      <th>Time</th>\n",
       "      <th>PdDistrict</th>\n",
       "      <th>Resolution</th>\n",
       "      <th>Address</th>\n",
       "      <th>X</th>\n",
       "      <th>Y</th>\n",
       "      <th>Location</th>\n",
       "      <th>PdId</th>\n",
       "    </tr>\n",
       "  </thead>\n",
       "  <tbody>\n",
       "    <tr>\n",
       "      <th>0</th>\n",
       "      <td> 140734311</td>\n",
       "      <td>         ARSON</td>\n",
       "      <td>           ARSON OF A VEHICLE</td>\n",
       "      <td> Sunday</td>\n",
       "      <td> 08/31/2014</td>\n",
       "      <td> 23:50</td>\n",
       "      <td>  BAYVIEW</td>\n",
       "      <td> NONE</td>\n",
       "      <td> LOOMIS ST / INDUSTRIAL ST</td>\n",
       "      <td>-122.405647</td>\n",
       "      <td> 37.738322</td>\n",
       "      <td> (37.7383221869053, -122.405646994567)</td>\n",
       "      <td> 14073431126031</td>\n",
       "    </tr>\n",
       "    <tr>\n",
       "      <th>1</th>\n",
       "      <td> 140736317</td>\n",
       "      <td>  NON-CRIMINAL</td>\n",
       "      <td>                LOST PROPERTY</td>\n",
       "      <td> Sunday</td>\n",
       "      <td> 08/31/2014</td>\n",
       "      <td> 23:45</td>\n",
       "      <td>  MISSION</td>\n",
       "      <td> NONE</td>\n",
       "      <td>    400 Block of CASTRO ST</td>\n",
       "      <td>-122.435012</td>\n",
       "      <td> 37.761768</td>\n",
       "      <td> (37.7617677182954, -122.435012093789)</td>\n",
       "      <td> 14073631771000</td>\n",
       "    </tr>\n",
       "    <tr>\n",
       "      <th>2</th>\n",
       "      <td> 146177923</td>\n",
       "      <td> LARCENY/THEFT</td>\n",
       "      <td> GRAND THEFT FROM LOCKED AUTO</td>\n",
       "      <td> Sunday</td>\n",
       "      <td> 08/31/2014</td>\n",
       "      <td> 23:30</td>\n",
       "      <td> SOUTHERN</td>\n",
       "      <td> NONE</td>\n",
       "      <td>  1000 Block of MISSION ST</td>\n",
       "      <td>-122.409795</td>\n",
       "      <td> 37.780036</td>\n",
       "      <td> (37.7800356268394, -122.409795194505)</td>\n",
       "      <td> 14617792306244</td>\n",
       "    </tr>\n",
       "  </tbody>\n",
       "</table>\n",
       "<p>3 rows × 13 columns</p>\n",
       "</div>"
      ],
      "text/plain": [
       "   IncidntNum       Category                      Descript DayOfWeek  \\\n",
       "0   140734311          ARSON            ARSON OF A VEHICLE    Sunday   \n",
       "1   140736317   NON-CRIMINAL                 LOST PROPERTY    Sunday   \n",
       "2   146177923  LARCENY/THEFT  GRAND THEFT FROM LOCKED AUTO    Sunday   \n",
       "\n",
       "         Date   Time PdDistrict Resolution                    Address  \\\n",
       "0  08/31/2014  23:50    BAYVIEW       NONE  LOOMIS ST / INDUSTRIAL ST   \n",
       "1  08/31/2014  23:45    MISSION       NONE     400 Block of CASTRO ST   \n",
       "2  08/31/2014  23:30   SOUTHERN       NONE   1000 Block of MISSION ST   \n",
       "\n",
       "            X          Y                               Location  \\\n",
       "0 -122.405647  37.738322  (37.7383221869053, -122.405646994567)   \n",
       "1 -122.435012  37.761768  (37.7617677182954, -122.435012093789)   \n",
       "2 -122.409795  37.780036  (37.7800356268394, -122.409795194505)   \n",
       "\n",
       "             PdId  \n",
       "0  14073431126031  \n",
       "1  14073631771000  \n",
       "2  14617792306244  \n",
       "\n",
       "[3 rows x 13 columns]"
      ]
     },
     "execution_count": 150,
     "metadata": {},
     "output_type": "execute_result"
    }
   ],
   "source": [
    "san.head(3)"
   ]
  },
  {
   "cell_type": "code",
   "execution_count": 151,
   "metadata": {
    "collapsed": false
   },
   "outputs": [
    {
     "name": "stdout",
     "output_type": "stream",
     "text": [
      "------------SEA---------\n",
      "<class 'pandas.core.frame.DataFrame'>\n",
      "Int64Index: 32779 entries, 0 to 32778\n",
      "Data columns (total 19 columns):\n",
      "RMS CDW ID                           32779 non-null int64\n",
      "General Offense Number               32779 non-null int64\n",
      "Offense Code                         32779 non-null object\n",
      "Offense Code Extension               32779 non-null int64\n",
      "Offense Type                         32779 non-null object\n",
      "Summary Offense Code                 32779 non-null object\n",
      "Summarized Offense Description       32779 non-null object\n",
      "Date Reported                        32779 non-null object\n",
      "Occurred Date or Date Range Start    32779 non-null object\n",
      "Occurred Date Range End              16499 non-null object\n",
      "Hundred Block Location               32779 non-null object\n",
      "District/Sector                      32722 non-null object\n",
      "Zone/Beat                            32723 non-null object\n",
      "Census Tract 2000                    32645 non-null float64\n",
      "Longitude                            32779 non-null float64\n",
      "Latitude                             32779 non-null float64\n",
      "Location                             32779 non-null object\n",
      "Month                                32779 non-null int64\n",
      "Year                                 32779 non-null int64\n",
      "dtypes: float64(3), int64(5), object(11)None\n",
      "--------SAN---------\n",
      "<class 'pandas.core.frame.DataFrame'>\n",
      "Int64Index: 28993 entries, 0 to 28992\n",
      "Data columns (total 13 columns):\n",
      "IncidntNum    28993 non-null int64\n",
      "Category      28993 non-null object\n",
      "Descript      28993 non-null object\n",
      "DayOfWeek     28993 non-null object\n",
      "Date          28993 non-null object\n",
      "Time          28993 non-null object\n",
      "PdDistrict    28993 non-null object\n",
      "Resolution    28993 non-null object\n",
      "Address       28993 non-null object\n",
      "X             28993 non-null float64\n",
      "Y             28993 non-null float64\n",
      "Location      28993 non-null object\n",
      "PdId          28993 non-null int64\n",
      "dtypes: float64(2), int64(2), object(9)None\n"
     ]
    }
   ],
   "source": [
    "print('------------SEA---------')\n",
    "print(sea.info())\n",
    "print('--------SAN---------')\n",
    "print(san.info())"
   ]
  },
  {
   "cell_type": "markdown",
   "metadata": {},
   "source": [
    "## Data wrangling\n",
    "I chose question:\n",
    "> For either city, how do incidents vary by neighborhood?\n",
    "\n",
    "> Which incidents are most common in the city center? \n",
    "\n",
    "> In what areas or neighborhoods are robberies or thefts most common?\n",
    "\n",
    "\n",
    "So, I left only Districts and Offenses in both datasets"
   ]
  },
  {
   "cell_type": "code",
   "execution_count": 152,
   "metadata": {
    "collapsed": false
   },
   "outputs": [],
   "source": [
    "dis_sea = sea[['District/Sector', 'Offense Type']]\n",
    "dis_san = san[['PdDistrict', 'Category']]"
   ]
  },
  {
   "cell_type": "markdown",
   "metadata": {},
   "source": [
    "Drop all NA-s from datasets"
   ]
  },
  {
   "cell_type": "code",
   "execution_count": 153,
   "metadata": {
    "collapsed": true
   },
   "outputs": [],
   "source": [
    "dis_sea = dis_sea.dropna()\n",
    "dis_san = dis_san.dropna()"
   ]
  },
  {
   "cell_type": "code",
   "execution_count": 154,
   "metadata": {
    "collapsed": false
   },
   "outputs": [
    {
     "name": "stdout",
     "output_type": "stream",
     "text": [
      "M     2642\n",
      "K     2379\n",
      "B     2338\n",
      "N     2333\n",
      "E     2255\n",
      "J     2204\n",
      "U     2160\n",
      "D     2063\n",
      "L     1982\n",
      "R     1841\n",
      "Q     1805\n",
      "C     1680\n",
      "S     1607\n",
      "F     1594\n",
      "G     1394\n",
      "W     1324\n",
      "O     1081\n",
      "99      40\n",
      "dtype: int64\n",
      "\n",
      "SOUTHERN      5739\n",
      "MISSION       3700\n",
      "NORTHERN      3589\n",
      "CENTRAL       3513\n",
      "BAYVIEW       2725\n",
      "INGLESIDE     2378\n",
      "TENDERLOIN    2257\n",
      "TARAVAL       1853\n",
      "PARK          1693\n",
      "RICHMOND      1546\n",
      "dtype: int64\n"
     ]
    }
   ],
   "source": [
    "counted_sea = dis_sea['District/Sector'].value_counts()\n",
    "print(counted_sea)\n",
    "print()\n",
    "counted_san = dis_san['PdDistrict'].value_counts()\n",
    "print(counted_san)"
   ]
  },
  {
   "cell_type": "markdown",
   "metadata": {},
   "source": [
    "## Number of crimes in districts of two cities"
   ]
  },
  {
   "cell_type": "code",
   "execution_count": 155,
   "metadata": {
    "collapsed": false
   },
   "outputs": [
    {
     "data": {
      "image/png": "[encoded data removed]",
      "text/plain": [
       "<matplotlib.figure.Figure at 0x7f2bed6dac88>"
      ]
     },
     "metadata": {},
     "output_type": "display_data"
    }
   ],
   "source": [
    "fig = plt.figure()\n",
    "\n",
    "fig.add_subplot(121)\n",
    "counted_sea.plot(kind='bar')\n",
    "plt.title(\"Seattle\")\n",
    "fig.add_subplot(122)\n",
    "\n",
    "counted_san.plot(kind='bar')\n",
    "plt.title(\"San Francisco\")\n",
    "plt.show()"
   ]
  },
  {
   "cell_type": "markdown",
   "metadata": {},
   "source": [
    "In figures we can see the number of crimes in every districs of both cities, also districts are sorted by number of crimes. Let's Central district in Seattle will be \"C\" (I didn't find information how to decode those letters)."
   ]
  },
  {
   "cell_type": "code",
   "execution_count": 156,
   "metadata": {
    "collapsed": false
   },
   "outputs": [
    {
     "name": "stdout",
     "output_type": "stream",
     "text": [
      "Top-4 crimes in central district\n",
      "Seattle\n",
      "THEFT-CARPROWL    385\n",
      "VEH-THEFT-AUTO    144\n",
      "THEFT-OTH         108\n",
      "PROPERTY FOUND     90\n",
      "dtype: int64\n",
      "\n",
      "San Francisco\n",
      "LARCENY/THEFT     1574\n",
      "NON-CRIMINAL       431\n",
      "OTHER OFFENSES     326\n",
      "ASSAULT            277\n",
      "dtype: int64\n"
     ]
    }
   ],
   "source": [
    "print(\"Top-4 crimes in central district\")\n",
    "print(\"Seattle\")\n",
    "counted_sea_c = dis_sea['Offense Type'][dis_sea['District/Sector'] == 'C'].value_counts()\n",
    "print(counted_sea_c[:4])\n",
    "print()\n",
    "print(\"San Francisco\")\n",
    "counted_san_c = dis_san.Category[dis_san.PdDistrict == 'CENTRAL'].value_counts()\n",
    "print(counted_san_c[:4])\n"
   ]
  },
  {
   "cell_type": "markdown",
   "metadata": {},
   "source": [
    "Most frequent crimes are seen in the tables. And plot in addition :)\n",
    "## Top-four crimes in central district"
   ]
  },
  {
   "cell_type": "code",
   "execution_count": 157,
   "metadata": {
    "collapsed": false
   },
   "outputs": [
    {
     "data": {
      "image/png": "[encoded data removed]",
      "text/plain": [
       "<matplotlib.figure.Figure at 0x7f2bed2a9208>"
      ]
     },
     "metadata": {},
     "output_type": "display_data"
    }
   ],
   "source": [
    "fig = plt.figure()\n",
    "\n",
    "fig.add_subplot(121)\n",
    "counted_sea_c[:4].plot(kind='bar')\n",
    "plt.title(\"Seattle\")\n",
    "fig.add_subplot(122)\n",
    "\n",
    "counted_san_c[:4].plot(kind='bar')\n",
    "plt.title(\"San Francisco\")\n",
    "plt.show()"
   ]
  },
  {
   "cell_type": "markdown",
   "metadata": {},
   "source": [
    "Don't ask me what I'm doing below >_<"
   ]
  },
  {
   "cell_type": "code",
   "execution_count": 158,
   "metadata": {
    "collapsed": false
   },
   "outputs": [],
   "source": [
    "o_t_sea = dis_sea['Offense Type'].values\n",
    "d_s_sea = dis_sea['District/Sector'].values\n",
    "\n",
    "o_t_san = dis_san['Category'].values\n",
    "d_s_san = dis_san['PdDistrict'].values"
   ]
  },
  {
   "cell_type": "code",
   "execution_count": 159,
   "metadata": {
    "collapsed": false
   },
   "outputs": [],
   "source": [
    "cities_sea = []\n",
    "for i in range(len(dis_sea.index)):\n",
    "    p = o_t_sea[i]\n",
    "    if (\"THEFT\" in p) or (\"ROBBERY\" in p):\n",
    "         cities_sea.append(d_s_sea[i])\n",
    "            \n",
    "cities_san = []\n",
    "for i in range(len(dis_san.index)):\n",
    "    p = o_t_san[i]\n",
    "    if (\"THEFT\" in p) or (\"ROBBERY\" in p):\n",
    "         cities_san.append(d_s_san[i])\n",
    "            \n",
    "d_f = pd.DataFrame(cities_sea)\n",
    "city_count_sea = d_f[0].value_counts()\n",
    "\n",
    "d_f = pd.DataFrame(cities_san)\n",
    "city_count_san = d_f[0].value_counts()"
   ]
  },
  {
   "cell_type": "markdown",
   "metadata": {},
   "source": [
    "## Visualizing districts and incidents connected to theft and robbery"
   ]
  },
  {
   "cell_type": "code",
   "execution_count": 160,
   "metadata": {
    "collapsed": false
   },
   "outputs": [
    {
     "data": {
      "image/png": "[encoded data removed]",
      "text/plain": [
       "<matplotlib.figure.Figure at 0x7f2bed2a9278>"
      ]
     },
     "metadata": {},
     "output_type": "display_data"
    }
   ],
   "source": [
    "fig = plt.figure()\n",
    "\n",
    "fig.add_subplot(121)\n",
    "city_count_sea.plot(kind='bar')\n",
    "plt.title(\"Seattle\")\n",
    "\n",
    "fig.add_subplot(122)\n",
    "city_count_san.plot(kind='bar')\n",
    "plt.title(\"San Francisco\")\n",
    "plt.show()"
   ]
  },
  {
   "cell_type": "markdown",
   "metadata": {},
   "source": [
    "Only zone \"M\" doesn't change its position, but everything changed and a lot! \n",
    "I used the same types of charts but I think they can best show the answer on gived questions."
   ]
  }
 ],
 "metadata": {
  "kernelspec": {
   "display_name": "Python 3",
   "language": "python",
   "name": "python3"
  },
  "language_info": {
   "codemirror_mode": {
    "name": "ipython",
    "version": 3
   },
   "file_extension": ".py",
   "mimetype": "text/x-python",
   "name": "python",
   "nbconvert_exporter": "python",
   "pygments_lexer": "ipython3",
   "version": "3.4.3"
  }
 },
 "nbformat": 4,
 "nbformat_minor": 0
}
